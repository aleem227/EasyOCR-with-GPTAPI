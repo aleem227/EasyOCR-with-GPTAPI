{
 "cells": [
  {
   "cell_type": "code",
   "execution_count": 1,
   "metadata": {},
   "outputs": [],
   "source": [
    "import easyocr"
   ]
  },
  {
   "cell_type": "code",
   "execution_count": 2,
   "metadata": {},
   "outputs": [
    {
     "name": "stderr",
     "output_type": "stream",
     "text": [
      "Using CPU. Note: This module is much faster with a GPU.\n"
     ]
    }
   ],
   "source": [
    "reader = easyocr.Reader(['en'], gpu=False) # this needs to run only once to load the model into memory\n"
   ]
  },
  {
   "cell_type": "code",
   "execution_count": 14,
   "metadata": {},
   "outputs": [],
   "source": [
    "result = reader.readtext(r'C:\\Users\\DELL\\Downloads\\62c7f84cba8d5d1287388304_12-Handwriting-Styles.jpg', detail = 0)"
   ]
  },
  {
   "cell_type": "code",
   "execution_count": 15,
   "metadata": {},
   "outputs": [
    {
     "data": {
      "text/plain": [
       "['(Tacy}',\n",
       " 'Te',\n",
       " 'brown  fox',\n",
       " 'over the',\n",
       " 'dvg;',\n",
       " '(Spehn) The 4uck broux Fox jumps',\n",
       " 'Gller @le',\n",
       " 'dq7',\n",
       " '(seott) J',\n",
       " 'Anowx',\n",
       " 'foxtumpd tw h_',\n",
       " '(Sarah)',\n",
       " 'broun fox jumps',\n",
       " 'Over the',\n",
       " '(ROBN TE',\n",
       " 'QUlck BROWN Fox UrFs',\n",
       " 'OVER Tle LAZT',\n",
       " 'DaGr',\n",
       " '(4 ayn-na)',\n",
       " 'Utu Juicn) %oun f yunpn',\n",
       " 'suln',\n",
       " 'tws',\n",
       " 'Bcod\"',\n",
       " 'da',\n",
       " 'cTea) Te',\n",
       " 'brwwn fbx &umps',\n",
       " 'bver th bzy',\n",
       " '(Nelson) The',\n",
       " 'brown Fox jurps Wor ts',\n",
       " 'ZLA)7',\n",
       " 'K6+=',\n",
       " '7r/ - &2 F',\n",
       " '~oz',\n",
       " '(Kldziw)-@',\n",
       " 'bron fox vjumps Wfer-(',\n",
       " 'deg:',\n",
       " '(Duu) The',\n",
       " 'brawn dox Jups ar te',\n",
       " 'Lazy',\n",
       " '(Eecca',\n",
       " 'Thz',\n",
       " 'fix Juts oVx_ @z',\n",
       " 'd64',\n",
       " 'quick',\n",
       " 'jump',\n",
       " 'lzm',\n",
       " '1nz/',\n",
       " 'quiek',\n",
       " 'Jaxt \"',\n",
       " 'do}',\n",
       " 'The',\n",
       " 'quick',\n",
       " '14zy',\n",
       " 'dog',\n",
       " 'Quick',\n",
       " 'dba:',\n",
       " 'guick',\n",
       " 'tazy',\n",
       " 'd08:',\n",
       " 'f*4',\n",
       " 'quick',\n",
       " '(az4/',\n",
       " 'quck',\n",
       " 'doc\"',\n",
       " 'qurck',\n",
       " 'brtwr ~',\n",
       " 'lz4 -']"
      ]
     },
     "execution_count": 15,
     "metadata": {},
     "output_type": "execute_result"
    }
   ],
   "source": [
    "result"
   ]
  },
  {
   "cell_type": "code",
   "execution_count": 11,
   "metadata": {},
   "outputs": [
    {
     "name": "stdout",
     "output_type": "stream",
     "text": [
      "{\n",
      "  \"InvoiceNumber\": \"01456\",\n",
      "  \"Date\": \"04/01/2019\",\n",
      "  \"Name\": \"Brayan Oconer\",\n",
      "  \"TotalAmount\": \"$365.00\"\n",
      "}\n"
     ]
    }
   ],
   "source": [
    "from openai import OpenAI\n",
    "import os \n",
    "\n",
    "KEY = os.getenv('OPENAI_API_KEY')\n",
    "\n",
    "client = OpenAI(api_key= KEY)\n",
    "\n",
    "completion = client.chat.completions.create(\n",
    "  model=\"gpt-3.5-turbo\",\n",
    "  messages=[\n",
    "    {\"role\": \"system\", \"content\": \"You are a developer, whose job is to convert the unstructured textual data into Json format using NLP.The main items/fields required for output are Invoice or PO number or maybe Order Number (whatever is mentioned in unstructured textual data), Date, Name, and total amount. Even though there could be many other fields but Ignore the rest of all items. I just want these 4. Also use NLP techniques to take care of same meaning words\"},\n",
    "    {\"role\": \"user\", \"content\": ''.join(result)}\n",
    "  ],\n",
    "  temperature=0\n",
    ")\n",
    "\n",
    "response_content = completion.choices[0].message.content\n",
    "\n",
    "print(response_content)"
   ]
  }
 ],
 "metadata": {
  "kernelspec": {
   "display_name": "easy_ocr",
   "language": "python",
   "name": "python3"
  },
  "language_info": {
   "codemirror_mode": {
    "name": "ipython",
    "version": 3
   },
   "file_extension": ".py",
   "mimetype": "text/x-python",
   "name": "python",
   "nbconvert_exporter": "python",
   "pygments_lexer": "ipython3",
   "version": "3.11.4"
  }
 },
 "nbformat": 4,
 "nbformat_minor": 2
}
