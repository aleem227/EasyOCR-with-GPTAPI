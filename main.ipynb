{
 "cells": [
  {
   "cell_type": "code",
   "execution_count": 1,
   "metadata": {},
   "outputs": [],
   "source": [
    "import easyocr"
   ]
  },
  {
   "cell_type": "code",
   "execution_count": 2,
   "metadata": {},
   "outputs": [
    {
     "name": "stderr",
     "output_type": "stream",
     "text": [
      "Using CPU. Note: This module is much faster with a GPU.\n"
     ]
    }
   ],
   "source": [
    "reader = easyocr.Reader(['en'], gpu=False) # this needs to run only once to load the model into memory\n"
   ]
  },
  {
   "cell_type": "code",
   "execution_count": 3,
   "metadata": {},
   "outputs": [],
   "source": [
    "result = reader.readtext(r'samples/invoice2.jpg', detail = 0)"
   ]
  },
  {
   "cell_type": "code",
   "execution_count": 4,
   "metadata": {},
   "outputs": [
    {
     "data": {
      "text/plain": [
       "['Centerwall_',\n",
       " 'A-Unknown Area;',\n",
       " 'INVOICE',\n",
       " 'Lorem Ipsum Delor;',\n",
       " 'B- 12345678',\n",
       " 'Bill to:',\n",
       " 'QTY',\n",
       " 'PRODUCT DESCRIPTION',\n",
       " 'PRICE',\n",
       " 'TOTAL',\n",
       " 'Brayan Oconer',\n",
       " 'B- Unknown Street',\n",
       " 'Location; Lorem Ipsum',\n",
       " '12345678-',\n",
       " 'PRODUCT NAME 01',\n",
       " '$ 50.00',\n",
       " '200.00',\n",
       " 'PRODUCT NAME 02',\n",
       " '10.00',\n",
       " '$ 10.00',\n",
       " 'Invoice: 01456',\n",
       " 'PRODUCT NAME 03',\n",
       " '$ 25.00',\n",
       " '$ 75.00',\n",
       " 'Date. 04 /01',\n",
       " '2019',\n",
       " 'PRODUCT NAME 04',\n",
       " '$ 40.00',\n",
       " '$ 80.00',\n",
       " 'SUBTOTAL',\n",
       " '$ 365.00',\n",
       " 'RATE',\n",
       " '0.00%',\n",
       " 'TOTAL',\n",
       " '5 365.00',\n",
       " 'Bank transfer',\n",
       " 'THANKS FOR YOU BUSINESS',\n",
       " 'Add your bank details',\n",
       " 'Lorem',\n",
       " 'psum is not simply random text',\n",
       " 'STAMP AND SIGNATURE',\n",
       " 'TAX']"
      ]
     },
     "execution_count": 4,
     "metadata": {},
     "output_type": "execute_result"
    }
   ],
   "source": [
    "result"
   ]
  },
  {
   "cell_type": "code",
   "execution_count": 11,
   "metadata": {},
   "outputs": [
    {
     "name": "stdout",
     "output_type": "stream",
     "text": [
      "{\n",
      "  \"InvoiceNumber\": \"01456\",\n",
      "  \"Date\": \"04/01/2019\",\n",
      "  \"Name\": \"Brayan Oconer\",\n",
      "  \"TotalAmount\": \"$365.00\"\n",
      "}\n"
     ]
    }
   ],
   "source": [
    "from openai import OpenAI\n",
    "import os \n",
    "\n",
    "KEY = os.getenv('OPENAI_API_KEY')\n",
    "\n",
    "client = OpenAI(api_key= KEY)\n",
    "\n",
    "completion = client.chat.completions.create(\n",
    "  model=\"gpt-3.5-turbo\",\n",
    "  messages=[\n",
    "    {\"role\": \"system\", \"content\": \"You are a developer, whose job is to convert the unstructured textual data into Json format using NLP.The main items/fields required for output are Invoice or PO number or maybe Order Number (whatever is mentioned in unstructured textual data), Date, Name, and total amount. Even though there could be many other fields but Ignore the rest of all items. I just want these 4. Also use NLP techniques to take care of same meaning words\"},\n",
    "    {\"role\": \"user\", \"content\": ''.join(result)}\n",
    "  ],\n",
    "  temperature=0\n",
    ")\n",
    "\n",
    "response_content = completion.choices[0].message.content\n",
    "\n",
    "print(response_content)"
   ]
  },
  {
   "cell_type": "code",
   "execution_count": 12,
   "metadata": {},
   "outputs": [
    {
     "data": {
      "text/plain": [
       "str"
      ]
     },
     "execution_count": 12,
     "metadata": {},
     "output_type": "execute_result"
    }
   ],
   "source": [
    "type(response_content)"
   ]
  },
  {
   "cell_type": "code",
   "execution_count": null,
   "metadata": {},
   "outputs": [],
   "source": []
  }
 ],
 "metadata": {
  "kernelspec": {
   "display_name": "easy_ocr",
   "language": "python",
   "name": "python3"
  },
  "language_info": {
   "codemirror_mode": {
    "name": "ipython",
    "version": 3
   },
   "file_extension": ".py",
   "mimetype": "text/x-python",
   "name": "python",
   "nbconvert_exporter": "python",
   "pygments_lexer": "ipython3",
   "version": "3.11.4"
  }
 },
 "nbformat": 4,
 "nbformat_minor": 2
}
